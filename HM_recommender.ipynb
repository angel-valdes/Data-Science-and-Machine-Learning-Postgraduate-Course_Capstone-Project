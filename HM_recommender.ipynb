{
 "cells": [
  {
   "cell_type": "code",
   "execution_count": 123,
   "id": "e4844b3a",
   "metadata": {},
   "outputs": [
    {
     "name": "stdout",
     "output_type": "stream",
     "text": [
      "\f",
      "\n"
     ]
    }
   ],
   "source": [
    "%reset -f \n",
    "%clear"
   ]
  },
  {
   "cell_type": "markdown",
   "id": "8dc0548c",
   "metadata": {},
   "source": [
    "# Importe de librerias utilizadas"
   ]
  },
  {
   "cell_type": "code",
   "execution_count": 168,
   "id": "907aba28",
   "metadata": {},
   "outputs": [],
   "source": [
    "from sklearn.datasets import dump_svmlight_file\n",
    "import numpy as np\n",
    "import pandas as pd\n",
    "import os\n",
    "import urllib\n",
    "import zipfile\n",
    "from sklearn.model_selection import train_test_split\n",
    "import shutil\n",
    "import matplotlib.pyplot as plt\n",
    "import warnings\n",
    "warnings.filterwarnings('ignore')\n",
    "import joblib\n",
    "%matplotlib inline\n",
    "\n",
    "import tensorflow as tf\n",
    "import tensorflow_recommenders as tfrs\n",
    "import keras\n",
    "from typing import Dict, Text \n",
    "\n",
    "# To plot pretty figures\n",
    "%matplotlib inline\n",
    "import matplotlib as mpl\n",
    "import matplotlib.pyplot as plt\n",
    "mpl.rc('axes', labelsize=14)\n",
    "mpl.rc('xtick', labelsize=12)\n",
    "mpl.rc('ytick', labelsize=12)\n",
    "plt.rc('font', size=12) \n",
    "plt.rc('figure', figsize = (12, 5))"
   ]
  },
  {
   "cell_type": "markdown",
   "id": "a9c3a444",
   "metadata": {},
   "source": [
    "# Lectura del fichero y análisis"
   ]
  },
  {
   "cell_type": "markdown",
   "id": "0f572a91",
   "metadata": {},
   "source": [
    "### Lectura del fichero"
   ]
  },
  {
   "cell_type": "code",
   "execution_count": 125,
   "id": "014cdff9",
   "metadata": {},
   "outputs": [],
   "source": [
    "#importacion de datos \n",
    "HM = pd.read_csv('HM_interactions.csv') "
   ]
  },
  {
   "cell_type": "markdown",
   "id": "6099e2c4",
   "metadata": {},
   "source": [
    "Visualización de los datos:"
   ]
  },
  {
   "cell_type": "code",
   "execution_count": 126,
   "id": "9ee1a198",
   "metadata": {},
   "outputs": [
    {
     "data": {
      "text/html": [
       "<div>\n",
       "<style scoped>\n",
       "    .dataframe tbody tr th:only-of-type {\n",
       "        vertical-align: middle;\n",
       "    }\n",
       "\n",
       "    .dataframe tbody tr th {\n",
       "        vertical-align: top;\n",
       "    }\n",
       "\n",
       "    .dataframe thead th {\n",
       "        text-align: right;\n",
       "    }\n",
       "</style>\n",
       "<table border=\"1\" class=\"dataframe\">\n",
       "  <thead>\n",
       "    <tr style=\"text-align: right;\">\n",
       "      <th></th>\n",
       "      <th>customer_id</th>\n",
       "      <th>article_id</th>\n",
       "      <th>timestamp</th>\n",
       "      <th>price</th>\n",
       "      <th>sales_channel_id</th>\n",
       "    </tr>\n",
       "  </thead>\n",
       "  <tbody>\n",
       "    <tr>\n",
       "      <th>0</th>\n",
       "      <td>10054</td>\n",
       "      <td>5498</td>\n",
       "      <td>1590278400</td>\n",
       "      <td>0.033881</td>\n",
       "      <td>2</td>\n",
       "    </tr>\n",
       "    <tr>\n",
       "      <th>1</th>\n",
       "      <td>8612</td>\n",
       "      <td>4092</td>\n",
       "      <td>1599177600</td>\n",
       "      <td>0.013542</td>\n",
       "      <td>2</td>\n",
       "    </tr>\n",
       "    <tr>\n",
       "      <th>2</th>\n",
       "      <td>12973</td>\n",
       "      <td>4109</td>\n",
       "      <td>1591401600</td>\n",
       "      <td>0.013542</td>\n",
       "      <td>1</td>\n",
       "    </tr>\n",
       "    <tr>\n",
       "      <th>3</th>\n",
       "      <td>9820</td>\n",
       "      <td>12918</td>\n",
       "      <td>1593820800</td>\n",
       "      <td>0.045763</td>\n",
       "      <td>2</td>\n",
       "    </tr>\n",
       "    <tr>\n",
       "      <th>4</th>\n",
       "      <td>3329</td>\n",
       "      <td>1739</td>\n",
       "      <td>1578355200</td>\n",
       "      <td>0.011847</td>\n",
       "      <td>2</td>\n",
       "    </tr>\n",
       "    <tr>\n",
       "      <th>...</th>\n",
       "      <td>...</td>\n",
       "      <td>...</td>\n",
       "      <td>...</td>\n",
       "      <td>...</td>\n",
       "      <td>...</td>\n",
       "    </tr>\n",
       "    <tr>\n",
       "      <th>382317</th>\n",
       "      <td>12873</td>\n",
       "      <td>18345</td>\n",
       "      <td>1587772800</td>\n",
       "      <td>0.013542</td>\n",
       "      <td>2</td>\n",
       "    </tr>\n",
       "    <tr>\n",
       "      <th>382318</th>\n",
       "      <td>1010</td>\n",
       "      <td>11221</td>\n",
       "      <td>1590710400</td>\n",
       "      <td>0.018390</td>\n",
       "      <td>1</td>\n",
       "    </tr>\n",
       "    <tr>\n",
       "      <th>382319</th>\n",
       "      <td>8493</td>\n",
       "      <td>13473</td>\n",
       "      <td>1592784000</td>\n",
       "      <td>0.027102</td>\n",
       "      <td>2</td>\n",
       "    </tr>\n",
       "    <tr>\n",
       "      <th>382320</th>\n",
       "      <td>7232</td>\n",
       "      <td>4383</td>\n",
       "      <td>1592179200</td>\n",
       "      <td>0.008458</td>\n",
       "      <td>2</td>\n",
       "    </tr>\n",
       "    <tr>\n",
       "      <th>382321</th>\n",
       "      <td>5460</td>\n",
       "      <td>13815</td>\n",
       "      <td>1584057600</td>\n",
       "      <td>0.033881</td>\n",
       "      <td>2</td>\n",
       "    </tr>\n",
       "  </tbody>\n",
       "</table>\n",
       "<p>382322 rows × 5 columns</p>\n",
       "</div>"
      ],
      "text/plain": [
       "        customer_id  article_id   timestamp     price  sales_channel_id\n",
       "0             10054        5498  1590278400  0.033881                 2\n",
       "1              8612        4092  1599177600  0.013542                 2\n",
       "2             12973        4109  1591401600  0.013542                 1\n",
       "3              9820       12918  1593820800  0.045763                 2\n",
       "4              3329        1739  1578355200  0.011847                 2\n",
       "...             ...         ...         ...       ...               ...\n",
       "382317        12873       18345  1587772800  0.013542                 2\n",
       "382318         1010       11221  1590710400  0.018390                 1\n",
       "382319         8493       13473  1592784000  0.027102                 2\n",
       "382320         7232        4383  1592179200  0.008458                 2\n",
       "382321         5460       13815  1584057600  0.033881                 2\n",
       "\n",
       "[382322 rows x 5 columns]"
      ]
     },
     "execution_count": 126,
     "metadata": {},
     "output_type": "execute_result"
    }
   ],
   "source": [
    "HM"
   ]
  },
  {
   "cell_type": "markdown",
   "id": "329f677d",
   "metadata": {},
   "source": [
    "Verificamos si existen datos duplicados:"
   ]
  },
  {
   "cell_type": "code",
   "execution_count": 127,
   "id": "64c6f138",
   "metadata": {},
   "outputs": [
    {
     "data": {
      "text/html": [
       "<div>\n",
       "<style scoped>\n",
       "    .dataframe tbody tr th:only-of-type {\n",
       "        vertical-align: middle;\n",
       "    }\n",
       "\n",
       "    .dataframe tbody tr th {\n",
       "        vertical-align: top;\n",
       "    }\n",
       "\n",
       "    .dataframe thead th {\n",
       "        text-align: right;\n",
       "    }\n",
       "</style>\n",
       "<table border=\"1\" class=\"dataframe\">\n",
       "  <thead>\n",
       "    <tr style=\"text-align: right;\">\n",
       "      <th></th>\n",
       "      <th>customer_id</th>\n",
       "      <th>article_id</th>\n",
       "      <th>timestamp</th>\n",
       "      <th>price</th>\n",
       "      <th>sales_channel_id</th>\n",
       "    </tr>\n",
       "  </thead>\n",
       "  <tbody>\n",
       "    <tr>\n",
       "      <th>382</th>\n",
       "      <td>11819</td>\n",
       "      <td>14350</td>\n",
       "      <td>1592956800</td>\n",
       "      <td>0.025407</td>\n",
       "      <td>2</td>\n",
       "    </tr>\n",
       "    <tr>\n",
       "      <th>396</th>\n",
       "      <td>4073</td>\n",
       "      <td>7335</td>\n",
       "      <td>1600560000</td>\n",
       "      <td>0.016525</td>\n",
       "      <td>2</td>\n",
       "    </tr>\n",
       "    <tr>\n",
       "      <th>3485</th>\n",
       "      <td>1065</td>\n",
       "      <td>14789</td>\n",
       "      <td>1583280000</td>\n",
       "      <td>0.030492</td>\n",
       "      <td>2</td>\n",
       "    </tr>\n",
       "    <tr>\n",
       "      <th>5150</th>\n",
       "      <td>2091</td>\n",
       "      <td>326</td>\n",
       "      <td>1584835200</td>\n",
       "      <td>0.033881</td>\n",
       "      <td>2</td>\n",
       "    </tr>\n",
       "    <tr>\n",
       "      <th>5606</th>\n",
       "      <td>9110</td>\n",
       "      <td>11246</td>\n",
       "      <td>1590192000</td>\n",
       "      <td>0.016932</td>\n",
       "      <td>2</td>\n",
       "    </tr>\n",
       "    <tr>\n",
       "      <th>...</th>\n",
       "      <td>...</td>\n",
       "      <td>...</td>\n",
       "      <td>...</td>\n",
       "      <td>...</td>\n",
       "      <td>...</td>\n",
       "    </tr>\n",
       "    <tr>\n",
       "      <th>382294</th>\n",
       "      <td>10062</td>\n",
       "      <td>1662</td>\n",
       "      <td>1585612800</td>\n",
       "      <td>0.016932</td>\n",
       "      <td>2</td>\n",
       "    </tr>\n",
       "    <tr>\n",
       "      <th>382301</th>\n",
       "      <td>10633</td>\n",
       "      <td>6250</td>\n",
       "      <td>1598659200</td>\n",
       "      <td>0.033881</td>\n",
       "      <td>2</td>\n",
       "    </tr>\n",
       "    <tr>\n",
       "      <th>382304</th>\n",
       "      <td>5752</td>\n",
       "      <td>15933</td>\n",
       "      <td>1586217600</td>\n",
       "      <td>0.025407</td>\n",
       "      <td>2</td>\n",
       "    </tr>\n",
       "    <tr>\n",
       "      <th>382317</th>\n",
       "      <td>12873</td>\n",
       "      <td>18345</td>\n",
       "      <td>1587772800</td>\n",
       "      <td>0.013542</td>\n",
       "      <td>2</td>\n",
       "    </tr>\n",
       "    <tr>\n",
       "      <th>382321</th>\n",
       "      <td>5460</td>\n",
       "      <td>13815</td>\n",
       "      <td>1584057600</td>\n",
       "      <td>0.033881</td>\n",
       "      <td>2</td>\n",
       "    </tr>\n",
       "  </tbody>\n",
       "</table>\n",
       "<p>18744 rows × 5 columns</p>\n",
       "</div>"
      ],
      "text/plain": [
       "        customer_id  article_id   timestamp     price  sales_channel_id\n",
       "382           11819       14350  1592956800  0.025407                 2\n",
       "396            4073        7335  1600560000  0.016525                 2\n",
       "3485           1065       14789  1583280000  0.030492                 2\n",
       "5150           2091         326  1584835200  0.033881                 2\n",
       "5606           9110       11246  1590192000  0.016932                 2\n",
       "...             ...         ...         ...       ...               ...\n",
       "382294        10062        1662  1585612800  0.016932                 2\n",
       "382301        10633        6250  1598659200  0.033881                 2\n",
       "382304         5752       15933  1586217600  0.025407                 2\n",
       "382317        12873       18345  1587772800  0.013542                 2\n",
       "382321         5460       13815  1584057600  0.033881                 2\n",
       "\n",
       "[18744 rows x 5 columns]"
      ]
     },
     "execution_count": 127,
     "metadata": {},
     "output_type": "execute_result"
    }
   ],
   "source": [
    "HM[HM.duplicated()]"
   ]
  },
  {
   "cell_type": "markdown",
   "id": "7788e6b7",
   "metadata": {},
   "source": [
    "Podemos observar que existensí registros duplicados en términos de usuario, artículo, fecha y precio. Por lo tanto, se considera que esto se debe limpiar:"
   ]
  },
  {
   "cell_type": "code",
   "execution_count": 128,
   "id": "3184871b",
   "metadata": {},
   "outputs": [],
   "source": [
    "HM = HM.drop_duplicates().reset_index( drop=True)"
   ]
  },
  {
   "cell_type": "markdown",
   "id": "2070b71c",
   "metadata": {},
   "source": [
    "### Análisis de los datos"
   ]
  },
  {
   "cell_type": "markdown",
   "id": "fabebfba",
   "metadata": {},
   "source": [
    "Observamos la cantidad de ventas de los artículos. Se puede apreciar que existen artículos que se han comprado pocas veces. Por lo tanto, se opta por realizar una limpieza de estos artículos ya que se considera que distorcionarían el entrenamiento de la red neuronal."
   ]
  },
  {
   "cell_type": "code",
   "execution_count": 129,
   "id": "59e80f6a",
   "metadata": {},
   "outputs": [
    {
     "data": {
      "text/plain": [
       "3872     394\n",
       "5988     361\n",
       "1806     309\n",
       "13645    297\n",
       "1805     295\n",
       "        ... \n",
       "4172       1\n",
       "2101       1\n",
       "1514       1\n",
       "10148      1\n",
       "9505       1\n",
       "Name: article_id, Length: 21475, dtype: int64"
      ]
     },
     "execution_count": 129,
     "metadata": {},
     "output_type": "execute_result"
    }
   ],
   "source": [
    "art_cant = HM['article_id'].value_counts()\n",
    "art_cant"
   ]
  },
  {
   "cell_type": "code",
   "execution_count": 130,
   "id": "8a825902",
   "metadata": {},
   "outputs": [
    {
     "data": {
      "text/plain": [
       "count    21475.000000\n",
       "mean        16.930291\n",
       "std         21.887597\n",
       "min          1.000000\n",
       "25%          5.000000\n",
       "50%          9.000000\n",
       "75%         20.000000\n",
       "max        394.000000\n",
       "Name: article_id, dtype: float64"
      ]
     },
     "execution_count": 130,
     "metadata": {},
     "output_type": "execute_result"
    }
   ],
   "source": [
    "art_cant.describe()"
   ]
  },
  {
   "cell_type": "code",
   "execution_count": 131,
   "id": "d75c2070",
   "metadata": {},
   "outputs": [
    {
     "data": {
      "text/plain": [
       "(0.0, 100.0)"
      ]
     },
     "execution_count": 131,
     "metadata": {},
     "output_type": "execute_result"
    },
    {
     "data": {
      "image/png": "[encoded data removed]",
      "text/plain": [
       "<Figure size 432x288 with 1 Axes>"
      ]
     },
     "metadata": {
      "needs_background": "light"
     },
     "output_type": "display_data"
    }
   ],
   "source": [
    "plt.hist(art_cant, bins=100)\n",
    "plt.axvline(np.quantile(art_cant, 0.25), color='green', linestyle='dashed', linewidth=1, label = \"25%\")\n",
    "plt.axvline(10, color='red', linestyle='dashed', linewidth=1,  label = \"10 ventas\" )\n",
    "plt.axvline(art_cant.mean(), color='black', linestyle='dashed', linewidth=1, label = \"media\")\n",
    "plt.axvline(np.quantile(art_cant, 0.75), color='blue', linestyle='dashed', linewidth=1, label = \"75%\")\n",
    "plt.legend(loc=\"upper right\")\n",
    "plt.xlim([0, 100])"
   ]
  },
  {
   "cell_type": "markdown",
   "id": "39ba35c4",
   "metadata": {},
   "source": [
    "A continuación, se observan los usuarios que han realizado compras:"
   ]
  },
  {
   "cell_type": "code",
   "execution_count": 132,
   "id": "a4536f8e",
   "metadata": {},
   "outputs": [
    {
     "data": {
      "text/plain": [
       "9568     216\n",
       "9990     190\n",
       "3491     173\n",
       "9494     156\n",
       "8805     150\n",
       "        ... \n",
       "5096       4\n",
       "10172      4\n",
       "1065       3\n",
       "11717      3\n",
       "7468       1\n",
       "Name: customer_id, Length: 13359, dtype: int64"
      ]
     },
     "execution_count": 132,
     "metadata": {},
     "output_type": "execute_result"
    }
   ],
   "source": [
    "cust_cant = HM['customer_id'].value_counts()\n",
    "cust_cant"
   ]
  },
  {
   "cell_type": "code",
   "execution_count": 133,
   "id": "a2ac7768",
   "metadata": {},
   "outputs": [
    {
     "data": {
      "text/plain": [
       "(0.0, 100.0)"
      ]
     },
     "execution_count": 133,
     "metadata": {},
     "output_type": "execute_result"
    },
    {
     "data": {
      "image/png": "[encoded data removed]",
      "text/plain": [
       "<Figure size 432x288 with 1 Axes>"
      ]
     },
     "metadata": {
      "needs_background": "light"
     },
     "output_type": "display_data"
    }
   ],
   "source": [
    "plt.hist(cust_cant, bins=100)\n",
    "plt.axvline(np.quantile(cust_cant, 0.25), color='red', linestyle='dashed', linewidth=1, label = \"25%\")\n",
    "plt.axvline(cust_cant.mean(), color='green', linestyle='dashed', linewidth=1, label = \"media\")\n",
    "plt.axvline(np.quantile(cust_cant, 0.75), color='blue', linestyle='dashed', linewidth=1, label = \"75%\")\n",
    "plt.legend(loc=\"upper right\")\n",
    "plt.xlim([0, 100])"
   ]
  },
  {
   "cell_type": "markdown",
   "id": "7ad49adf",
   "metadata": {},
   "source": [
    "### Train set y Test set"
   ]
  },
  {
   "cell_type": "markdown",
   "id": "0f24ce36",
   "metadata": {},
   "source": [
    "A continuación, se ordenan los valores por usuario y por fecha:"
   ]
  },
  {
   "cell_type": "code",
   "execution_count": 134,
   "id": "37a02fa1",
   "metadata": {},
   "outputs": [
    {
     "data": {
      "text/html": [
       "<div>\n",
       "<style scoped>\n",
       "    .dataframe tbody tr th:only-of-type {\n",
       "        vertical-align: middle;\n",
       "    }\n",
       "\n",
       "    .dataframe tbody tr th {\n",
       "        vertical-align: top;\n",
       "    }\n",
       "\n",
       "    .dataframe thead th {\n",
       "        text-align: right;\n",
       "    }\n",
       "</style>\n",
       "<table border=\"1\" class=\"dataframe\">\n",
       "  <thead>\n",
       "    <tr style=\"text-align: right;\">\n",
       "      <th></th>\n",
       "      <th>index</th>\n",
       "      <th>customer_id</th>\n",
       "      <th>article_id</th>\n",
       "      <th>timestamp</th>\n",
       "      <th>price</th>\n",
       "      <th>sales_channel_id</th>\n",
       "    </tr>\n",
       "  </thead>\n",
       "  <tbody>\n",
       "    <tr>\n",
       "      <th>0</th>\n",
       "      <td>358129</td>\n",
       "      <td>0</td>\n",
       "      <td>1806</td>\n",
       "      <td>1578441600</td>\n",
       "      <td>0.007881</td>\n",
       "      <td>2</td>\n",
       "    </tr>\n",
       "    <tr>\n",
       "      <th>1</th>\n",
       "      <td>61181</td>\n",
       "      <td>0</td>\n",
       "      <td>6180</td>\n",
       "      <td>1582502400</td>\n",
       "      <td>0.044966</td>\n",
       "      <td>2</td>\n",
       "    </tr>\n",
       "    <tr>\n",
       "      <th>2</th>\n",
       "      <td>90940</td>\n",
       "      <td>0</td>\n",
       "      <td>11502</td>\n",
       "      <td>1582502400</td>\n",
       "      <td>0.014949</td>\n",
       "      <td>2</td>\n",
       "    </tr>\n",
       "    <tr>\n",
       "      <th>3</th>\n",
       "      <td>165093</td>\n",
       "      <td>0</td>\n",
       "      <td>11649</td>\n",
       "      <td>1582502400</td>\n",
       "      <td>0.044966</td>\n",
       "      <td>2</td>\n",
       "    </tr>\n",
       "    <tr>\n",
       "      <th>4</th>\n",
       "      <td>311039</td>\n",
       "      <td>0</td>\n",
       "      <td>16788</td>\n",
       "      <td>1582502400</td>\n",
       "      <td>0.044966</td>\n",
       "      <td>2</td>\n",
       "    </tr>\n",
       "    <tr>\n",
       "      <th>...</th>\n",
       "      <td>...</td>\n",
       "      <td>...</td>\n",
       "      <td>...</td>\n",
       "      <td>...</td>\n",
       "      <td>...</td>\n",
       "      <td>...</td>\n",
       "    </tr>\n",
       "    <tr>\n",
       "      <th>363573</th>\n",
       "      <td>286548</td>\n",
       "      <td>13358</td>\n",
       "      <td>18373</td>\n",
       "      <td>1597190400</td>\n",
       "      <td>0.033881</td>\n",
       "      <td>2</td>\n",
       "    </tr>\n",
       "    <tr>\n",
       "      <th>363574</th>\n",
       "      <td>198470</td>\n",
       "      <td>13358</td>\n",
       "      <td>20748</td>\n",
       "      <td>1597968000</td>\n",
       "      <td>0.027102</td>\n",
       "      <td>2</td>\n",
       "    </tr>\n",
       "    <tr>\n",
       "      <th>363575</th>\n",
       "      <td>172314</td>\n",
       "      <td>13358</td>\n",
       "      <td>16598</td>\n",
       "      <td>1600214400</td>\n",
       "      <td>0.005068</td>\n",
       "      <td>2</td>\n",
       "    </tr>\n",
       "    <tr>\n",
       "      <th>363576</th>\n",
       "      <td>227905</td>\n",
       "      <td>13358</td>\n",
       "      <td>11249</td>\n",
       "      <td>1600214400</td>\n",
       "      <td>0.016932</td>\n",
       "      <td>2</td>\n",
       "    </tr>\n",
       "    <tr>\n",
       "      <th>363577</th>\n",
       "      <td>332634</td>\n",
       "      <td>13358</td>\n",
       "      <td>11246</td>\n",
       "      <td>1600214400</td>\n",
       "      <td>0.016932</td>\n",
       "      <td>2</td>\n",
       "    </tr>\n",
       "  </tbody>\n",
       "</table>\n",
       "<p>363578 rows × 6 columns</p>\n",
       "</div>"
      ],
      "text/plain": [
       "         index  customer_id  article_id   timestamp     price  \\\n",
       "0       358129            0        1806  1578441600  0.007881   \n",
       "1        61181            0        6180  1582502400  0.044966   \n",
       "2        90940            0       11502  1582502400  0.014949   \n",
       "3       165093            0       11649  1582502400  0.044966   \n",
       "4       311039            0       16788  1582502400  0.044966   \n",
       "...        ...          ...         ...         ...       ...   \n",
       "363573  286548        13358       18373  1597190400  0.033881   \n",
       "363574  198470        13358       20748  1597968000  0.027102   \n",
       "363575  172314        13358       16598  1600214400  0.005068   \n",
       "363576  227905        13358       11249  1600214400  0.016932   \n",
       "363577  332634        13358       11246  1600214400  0.016932   \n",
       "\n",
       "        sales_channel_id  \n",
       "0                      2  \n",
       "1                      2  \n",
       "2                      2  \n",
       "3                      2  \n",
       "4                      2  \n",
       "...                  ...  \n",
       "363573                 2  \n",
       "363574                 2  \n",
       "363575                 2  \n",
       "363576                 2  \n",
       "363577                 2  \n",
       "\n",
       "[363578 rows x 6 columns]"
      ]
     },
     "execution_count": 134,
     "metadata": {},
     "output_type": "execute_result"
    }
   ],
   "source": [
    "#verificación\n",
    "HM_sorted = HM.sort_values(by=['customer_id', 'timestamp'], ascending=[True, True])\n",
    "HM_sorted.reset_index()"
   ]
  },
  {
   "cell_type": "code",
   "execution_count": 135,
   "id": "352cfbf6",
   "metadata": {},
   "outputs": [
    {
     "name": "stdout",
     "output_type": "stream",
     "text": [
      "customer_id         13359\n",
      "article_id          21475\n",
      "timestamp             265\n",
      "price                4529\n",
      "sales_channel_id        2\n",
      "dtype: int64         customer_id  article_id   timestamp     price  sales_channel_id\n",
      "358129            0        1806  1578441600  0.007881                 2\n",
      "61181             0        6180  1582502400  0.044966                 2\n",
      "90940             0       11502  1582502400  0.014949                 2\n",
      "165093            0       11649  1582502400  0.044966                 2\n",
      "311039            0       16788  1582502400  0.044966                 2\n",
      "...             ...         ...         ...       ...               ...\n",
      "286548        13358       18373  1597190400  0.033881                 2\n",
      "198470        13358       20748  1597968000  0.027102                 2\n",
      "172314        13358       16598  1600214400  0.005068                 2\n",
      "227905        13358       11249  1600214400  0.016932                 2\n",
      "332634        13358       11246  1600214400  0.016932                 2\n",
      "\n",
      "[363578 rows x 5 columns]\n"
     ]
    }
   ],
   "source": [
    "print(HM_sorted.nunique(), HM_sorted)"
   ]
  },
  {
   "cell_type": "markdown",
   "id": "ac79fa8b",
   "metadata": {},
   "source": [
    "### Eliminación de artículos menos comprados"
   ]
  },
  {
   "cell_type": "code",
   "execution_count": 136,
   "id": "e0a3bae7",
   "metadata": {},
   "outputs": [],
   "source": [
    "def art_mas_comprados(data, num_articles):\n",
    "    article_counts = pd.DataFrame(data.article_id.value_counts().reset_index().values, columns=[\"article_id\", \"cant\"])\n",
    "    article_countsindex = article_counts.sort_index(axis = 0, ascending=True)\n",
    "    most_bought_articles = pd.DataFrame(article_countsindex.loc[article_countsindex['cant']>=num_articles]['article_id'])\n",
    "    HM_return = data.loc[data.article_id.isin(most_bought_articles.article_id)]\n",
    "    return HM_return.reset_index(drop=True)\n"
   ]
  },
  {
   "cell_type": "code",
   "execution_count": 137,
   "id": "405ca2ac",
   "metadata": {},
   "outputs": [
    {
     "data": {
      "text/html": [
       "<div>\n",
       "<style scoped>\n",
       "    .dataframe tbody tr th:only-of-type {\n",
       "        vertical-align: middle;\n",
       "    }\n",
       "\n",
       "    .dataframe tbody tr th {\n",
       "        vertical-align: top;\n",
       "    }\n",
       "\n",
       "    .dataframe thead th {\n",
       "        text-align: right;\n",
       "    }\n",
       "</style>\n",
       "<table border=\"1\" class=\"dataframe\">\n",
       "  <thead>\n",
       "    <tr style=\"text-align: right;\">\n",
       "      <th></th>\n",
       "      <th>customer_id</th>\n",
       "      <th>article_id</th>\n",
       "      <th>timestamp</th>\n",
       "      <th>price</th>\n",
       "      <th>sales_channel_id</th>\n",
       "    </tr>\n",
       "  </thead>\n",
       "  <tbody>\n",
       "    <tr>\n",
       "      <th>0</th>\n",
       "      <td>0</td>\n",
       "      <td>1806</td>\n",
       "      <td>1578441600</td>\n",
       "      <td>0.007881</td>\n",
       "      <td>2</td>\n",
       "    </tr>\n",
       "    <tr>\n",
       "      <th>1</th>\n",
       "      <td>0</td>\n",
       "      <td>11502</td>\n",
       "      <td>1582502400</td>\n",
       "      <td>0.014949</td>\n",
       "      <td>2</td>\n",
       "    </tr>\n",
       "    <tr>\n",
       "      <th>2</th>\n",
       "      <td>0</td>\n",
       "      <td>16788</td>\n",
       "      <td>1582502400</td>\n",
       "      <td>0.044966</td>\n",
       "      <td>2</td>\n",
       "    </tr>\n",
       "    <tr>\n",
       "      <th>3</th>\n",
       "      <td>0</td>\n",
       "      <td>1367</td>\n",
       "      <td>1582502400</td>\n",
       "      <td>0.044966</td>\n",
       "      <td>2</td>\n",
       "    </tr>\n",
       "    <tr>\n",
       "      <th>4</th>\n",
       "      <td>0</td>\n",
       "      <td>4911</td>\n",
       "      <td>1587859200</td>\n",
       "      <td>0.040661</td>\n",
       "      <td>2</td>\n",
       "    </tr>\n",
       "    <tr>\n",
       "      <th>...</th>\n",
       "      <td>...</td>\n",
       "      <td>...</td>\n",
       "      <td>...</td>\n",
       "      <td>...</td>\n",
       "      <td>...</td>\n",
       "    </tr>\n",
       "    <tr>\n",
       "      <th>307158</th>\n",
       "      <td>13358</td>\n",
       "      <td>18373</td>\n",
       "      <td>1597190400</td>\n",
       "      <td>0.033881</td>\n",
       "      <td>2</td>\n",
       "    </tr>\n",
       "    <tr>\n",
       "      <th>307159</th>\n",
       "      <td>13358</td>\n",
       "      <td>20748</td>\n",
       "      <td>1597968000</td>\n",
       "      <td>0.027102</td>\n",
       "      <td>2</td>\n",
       "    </tr>\n",
       "    <tr>\n",
       "      <th>307160</th>\n",
       "      <td>13358</td>\n",
       "      <td>16598</td>\n",
       "      <td>1600214400</td>\n",
       "      <td>0.005068</td>\n",
       "      <td>2</td>\n",
       "    </tr>\n",
       "    <tr>\n",
       "      <th>307161</th>\n",
       "      <td>13358</td>\n",
       "      <td>11249</td>\n",
       "      <td>1600214400</td>\n",
       "      <td>0.016932</td>\n",
       "      <td>2</td>\n",
       "    </tr>\n",
       "    <tr>\n",
       "      <th>307162</th>\n",
       "      <td>13358</td>\n",
       "      <td>11246</td>\n",
       "      <td>1600214400</td>\n",
       "      <td>0.016932</td>\n",
       "      <td>2</td>\n",
       "    </tr>\n",
       "  </tbody>\n",
       "</table>\n",
       "<p>307163 rows × 5 columns</p>\n",
       "</div>"
      ],
      "text/plain": [
       "        customer_id  article_id   timestamp     price  sales_channel_id\n",
       "0                 0        1806  1578441600  0.007881                 2\n",
       "1                 0       11502  1582502400  0.014949                 2\n",
       "2                 0       16788  1582502400  0.044966                 2\n",
       "3                 0        1367  1582502400  0.044966                 2\n",
       "4                 0        4911  1587859200  0.040661                 2\n",
       "...             ...         ...         ...       ...               ...\n",
       "307158        13358       18373  1597190400  0.033881                 2\n",
       "307159        13358       20748  1597968000  0.027102                 2\n",
       "307160        13358       16598  1600214400  0.005068                 2\n",
       "307161        13358       11249  1600214400  0.016932                 2\n",
       "307162        13358       11246  1600214400  0.016932                 2\n",
       "\n",
       "[307163 rows x 5 columns]"
      ]
     },
     "execution_count": 137,
     "metadata": {},
     "output_type": "execute_result"
    }
   ],
   "source": [
    "HM_sorted = art_mas_comprados(HM_sorted, 10)\n",
    "HM_sorted"
   ]
  },
  {
   "cell_type": "code",
   "execution_count": 138,
   "id": "f6a48dcb",
   "metadata": {},
   "outputs": [
    {
     "name": "stdout",
     "output_type": "stream",
     "text": [
      "customer_id         13359\n",
      "article_id          10473\n",
      "timestamp             265\n",
      "price                4144\n",
      "sales_channel_id        2\n",
      "dtype: int64         customer_id  article_id   timestamp     price  sales_channel_id\n",
      "0                 0        1806  1578441600  0.007881                 2\n",
      "1                 0       11502  1582502400  0.014949                 2\n",
      "2                 0       16788  1582502400  0.044966                 2\n",
      "3                 0        1367  1582502400  0.044966                 2\n",
      "4                 0        4911  1587859200  0.040661                 2\n",
      "...             ...         ...         ...       ...               ...\n",
      "307158        13358       18373  1597190400  0.033881                 2\n",
      "307159        13358       20748  1597968000  0.027102                 2\n",
      "307160        13358       16598  1600214400  0.005068                 2\n",
      "307161        13358       11249  1600214400  0.016932                 2\n",
      "307162        13358       11246  1600214400  0.016932                 2\n",
      "\n",
      "[307163 rows x 5 columns]\n"
     ]
    }
   ],
   "source": [
    "print(HM_sorted.nunique(),HM_sorted) "
   ]
  },
  {
   "cell_type": "markdown",
   "id": "e4cb1cb9",
   "metadata": {},
   "source": [
    "Podemos observar que se han eliminado una gran cantidad de artículos que se compraron solo 10 veces."
   ]
  },
  {
   "cell_type": "markdown",
   "id": "2bde7f6e",
   "metadata": {},
   "source": [
    "A modo de visualizar mejor, creamos una columna `date`con un formato adecuado de fecha."
   ]
  },
  {
   "cell_type": "code",
   "execution_count": 139,
   "id": "40c0d8e8",
   "metadata": {},
   "outputs": [],
   "source": [
    "HM_sorted['date'] = pd.to_datetime(HM_sorted['timestamp'], unit='s')"
   ]
  },
  {
   "cell_type": "markdown",
   "id": "5715074d",
   "metadata": {},
   "source": [
    "### Test set"
   ]
  },
  {
   "cell_type": "markdown",
   "id": "5c632556",
   "metadata": {},
   "source": [
    "A diferencia de otros casos en ML, como se está trabajando con productos y usuarios (y se dispone de la fecha de compra), para separar el **test set** se separa la última compra de cada usuario y esto se toma como test set."
   ]
  },
  {
   "cell_type": "code",
   "execution_count": 140,
   "id": "d2236f6a",
   "metadata": {},
   "outputs": [],
   "source": [
    "HM_test = HM_sorted.drop_duplicates(keep='last', subset = ['customer_id'])\n",
    "HM_test.reset_index(drop=True, inplace=True)"
   ]
  },
  {
   "cell_type": "markdown",
   "id": "00aefd19",
   "metadata": {},
   "source": [
    "### Train set\n",
    "\n",
    "Separamos las compras que se encuentran en el test set para el **train set**."
   ]
  },
  {
   "cell_type": "code",
   "execution_count": 141,
   "id": "f5b87f1d",
   "metadata": {},
   "outputs": [
    {
     "data": {
      "text/html": [
       "<div>\n",
       "<style scoped>\n",
       "    .dataframe tbody tr th:only-of-type {\n",
       "        vertical-align: middle;\n",
       "    }\n",
       "\n",
       "    .dataframe tbody tr th {\n",
       "        vertical-align: top;\n",
       "    }\n",
       "\n",
       "    .dataframe thead th {\n",
       "        text-align: right;\n",
       "    }\n",
       "</style>\n",
       "<table border=\"1\" class=\"dataframe\">\n",
       "  <thead>\n",
       "    <tr style=\"text-align: right;\">\n",
       "      <th></th>\n",
       "      <th>customer_id</th>\n",
       "      <th>article_id</th>\n",
       "      <th>timestamp</th>\n",
       "      <th>price</th>\n",
       "      <th>sales_channel_id</th>\n",
       "      <th>date</th>\n",
       "      <th>Where</th>\n",
       "    </tr>\n",
       "  </thead>\n",
       "  <tbody>\n",
       "    <tr>\n",
       "      <th>0</th>\n",
       "      <td>0</td>\n",
       "      <td>1806</td>\n",
       "      <td>1578441600</td>\n",
       "      <td>0.007881</td>\n",
       "      <td>2</td>\n",
       "      <td>2020-01-08</td>\n",
       "      <td>left_only</td>\n",
       "    </tr>\n",
       "    <tr>\n",
       "      <th>1</th>\n",
       "      <td>0</td>\n",
       "      <td>11502</td>\n",
       "      <td>1582502400</td>\n",
       "      <td>0.014949</td>\n",
       "      <td>2</td>\n",
       "      <td>2020-02-24</td>\n",
       "      <td>left_only</td>\n",
       "    </tr>\n",
       "    <tr>\n",
       "      <th>2</th>\n",
       "      <td>0</td>\n",
       "      <td>16788</td>\n",
       "      <td>1582502400</td>\n",
       "      <td>0.044966</td>\n",
       "      <td>2</td>\n",
       "      <td>2020-02-24</td>\n",
       "      <td>left_only</td>\n",
       "    </tr>\n",
       "    <tr>\n",
       "      <th>3</th>\n",
       "      <td>0</td>\n",
       "      <td>1367</td>\n",
       "      <td>1582502400</td>\n",
       "      <td>0.044966</td>\n",
       "      <td>2</td>\n",
       "      <td>2020-02-24</td>\n",
       "      <td>left_only</td>\n",
       "    </tr>\n",
       "    <tr>\n",
       "      <th>4</th>\n",
       "      <td>0</td>\n",
       "      <td>4911</td>\n",
       "      <td>1587859200</td>\n",
       "      <td>0.040661</td>\n",
       "      <td>2</td>\n",
       "      <td>2020-04-26</td>\n",
       "      <td>left_only</td>\n",
       "    </tr>\n",
       "    <tr>\n",
       "      <th>...</th>\n",
       "      <td>...</td>\n",
       "      <td>...</td>\n",
       "      <td>...</td>\n",
       "      <td>...</td>\n",
       "      <td>...</td>\n",
       "      <td>...</td>\n",
       "      <td>...</td>\n",
       "    </tr>\n",
       "    <tr>\n",
       "      <th>307157</th>\n",
       "      <td>13358</td>\n",
       "      <td>9212</td>\n",
       "      <td>1597190400</td>\n",
       "      <td>0.042356</td>\n",
       "      <td>2</td>\n",
       "      <td>2020-08-12</td>\n",
       "      <td>left_only</td>\n",
       "    </tr>\n",
       "    <tr>\n",
       "      <th>307158</th>\n",
       "      <td>13358</td>\n",
       "      <td>18373</td>\n",
       "      <td>1597190400</td>\n",
       "      <td>0.033881</td>\n",
       "      <td>2</td>\n",
       "      <td>2020-08-12</td>\n",
       "      <td>left_only</td>\n",
       "    </tr>\n",
       "    <tr>\n",
       "      <th>307159</th>\n",
       "      <td>13358</td>\n",
       "      <td>20748</td>\n",
       "      <td>1597968000</td>\n",
       "      <td>0.027102</td>\n",
       "      <td>2</td>\n",
       "      <td>2020-08-21</td>\n",
       "      <td>left_only</td>\n",
       "    </tr>\n",
       "    <tr>\n",
       "      <th>307160</th>\n",
       "      <td>13358</td>\n",
       "      <td>16598</td>\n",
       "      <td>1600214400</td>\n",
       "      <td>0.005068</td>\n",
       "      <td>2</td>\n",
       "      <td>2020-09-16</td>\n",
       "      <td>left_only</td>\n",
       "    </tr>\n",
       "    <tr>\n",
       "      <th>307161</th>\n",
       "      <td>13358</td>\n",
       "      <td>11249</td>\n",
       "      <td>1600214400</td>\n",
       "      <td>0.016932</td>\n",
       "      <td>2</td>\n",
       "      <td>2020-09-16</td>\n",
       "      <td>left_only</td>\n",
       "    </tr>\n",
       "  </tbody>\n",
       "</table>\n",
       "<p>293804 rows × 7 columns</p>\n",
       "</div>"
      ],
      "text/plain": [
       "        customer_id  article_id   timestamp     price  sales_channel_id  \\\n",
       "0                 0        1806  1578441600  0.007881                 2   \n",
       "1                 0       11502  1582502400  0.014949                 2   \n",
       "2                 0       16788  1582502400  0.044966                 2   \n",
       "3                 0        1367  1582502400  0.044966                 2   \n",
       "4                 0        4911  1587859200  0.040661                 2   \n",
       "...             ...         ...         ...       ...               ...   \n",
       "307157        13358        9212  1597190400  0.042356                 2   \n",
       "307158        13358       18373  1597190400  0.033881                 2   \n",
       "307159        13358       20748  1597968000  0.027102                 2   \n",
       "307160        13358       16598  1600214400  0.005068                 2   \n",
       "307161        13358       11249  1600214400  0.016932                 2   \n",
       "\n",
       "             date      Where  \n",
       "0      2020-01-08  left_only  \n",
       "1      2020-02-24  left_only  \n",
       "2      2020-02-24  left_only  \n",
       "3      2020-02-24  left_only  \n",
       "4      2020-04-26  left_only  \n",
       "...           ...        ...  \n",
       "307157 2020-08-12  left_only  \n",
       "307158 2020-08-12  left_only  \n",
       "307159 2020-08-21  left_only  \n",
       "307160 2020-09-16  left_only  \n",
       "307161 2020-09-16  left_only  \n",
       "\n",
       "[293804 rows x 7 columns]"
      ]
     },
     "execution_count": 141,
     "metadata": {},
     "output_type": "execute_result"
    }
   ],
   "source": [
    "HM_train = pd.merge(HM_sorted, HM_test, how ='outer', indicator='Where')\n",
    "HM_train = HM_train.drop(HM_train[HM_train.Where == 'both'].index)\n",
    "HM_train"
   ]
  },
  {
   "cell_type": "code",
   "execution_count": 142,
   "id": "56e94e91",
   "metadata": {},
   "outputs": [],
   "source": [
    "del HM_train[\"Where\"]"
   ]
  },
  {
   "cell_type": "code",
   "execution_count": 143,
   "id": "a01d186f",
   "metadata": {},
   "outputs": [
    {
     "name": "stdout",
     "output_type": "stream",
     "text": [
      "Tamaño total:  307163\n",
      "Tamaño train:  293804\n",
      "Tamaño test:  13359\n",
      "Diferencia entre total - (train+test):  0\n"
     ]
    }
   ],
   "source": [
    "print(\"Tamaño total: \", HM_sorted.shape[0])\n",
    "print(\"Tamaño train: \", HM_train.shape[0])\n",
    "print(\"Tamaño test: \", HM_test.shape[0])\n",
    "print(\"Diferencia entre total - (train+test): \", HM_sorted.shape[0] - HM_train.shape[0] - HM_test.shape[0])"
   ]
  },
  {
   "cell_type": "markdown",
   "id": "59546c91",
   "metadata": {},
   "source": [
    "Asignamos `1`a la variable `quantity`para introducir al modelo posteriormente."
   ]
  },
  {
   "cell_type": "code",
   "execution_count": 144,
   "id": "d386fa22",
   "metadata": {},
   "outputs": [],
   "source": [
    "HM_test['quantity'] = 1\n",
    "HM_train['quantity'] = 1"
   ]
  },
  {
   "cell_type": "markdown",
   "id": "265127d9",
   "metadata": {},
   "source": [
    "#### Conversión a str y flot\n",
    "\n",
    "Para trabajar con el modelo, se convierten las variables `customer_id`y `article_id`a `string`; mientras que la variable `quantity`nos aseguramos que sea del tipo `float`."
   ]
  },
  {
   "cell_type": "code",
   "execution_count": 145,
   "id": "0196127d",
   "metadata": {},
   "outputs": [],
   "source": [
    "HM_train[[\"customer_id\", \"article_id\"]]=HM_train[[\"customer_id\", \n",
    "                                                  \"article_id\"]].astype(str)\n",
    "\n",
    "HM_train[\"quantity\"] = HM_train[\"quantity\"].astype(float)\n",
    "\n",
    "\n",
    "HM_test[[\"customer_id\", \"article_id\"]]=HM_test[[\"customer_id\", \n",
    "                                                  \"article_id\"]].astype(str)\n",
    "\n",
    "HM_test[\"quantity\"] = HM_test[\"quantity\"].astype(float)\n"
   ]
  },
  {
   "cell_type": "markdown",
   "id": "af43cfcb",
   "metadata": {},
   "source": [
    "# Modelado\n",
    "\n",
    "En este apartado se trabaja con el modelado del sistema."
   ]
  },
  {
   "cell_type": "markdown",
   "id": "29cb39a2",
   "metadata": {},
   "source": [
    "Primeramente, creamos las interacciones."
   ]
  },
  {
   "cell_type": "code",
   "execution_count": 146,
   "id": "369fe2b2",
   "metadata": {},
   "outputs": [],
   "source": [
    "# creamos una tabla de referencia de los customers, articulos.\n",
    "interactions_dict = HM_train.groupby(['customer_id', 'article_id'])[ 'quantity'].sum().reset_index()\n",
    "\n",
    "# transformamos la tabla en un diccionario, el cual alimentará al tensor slices\n",
    "# esto es necesario ya que será el tipo de dato que alimenta los embedding layers\n",
    "interactions_dict = {name: np.array(value) for name, value in interactions_dict.items()}\n",
    "interactions = tf.data.Dataset.from_tensor_slices(interactions_dict)\n",
    "\n",
    "# hacemos un paso similar para el artículo, donde esta es la tabla de referencia para los artículos que se recomiendan\n",
    "\n",
    "art_dict = HM_train[['article_id']].drop_duplicates()\n",
    "art_dict = {name: np.array(value) for name, value in art_dict.items()}\n",
    "articles = tf.data.Dataset.from_tensor_slices(art_dict)\n",
    "\n",
    "# mapeamos las características en las interacciones y artículos a un identificador que usaremos a través de los embedding layers\n",
    "\n",
    "interactions = interactions.map(lambda x: {'customer_id' : x['customer_id'], \n",
    "                                            'article_id' : x['article_id'], \n",
    "                                            'quantity' : float(x['quantity']),})\n",
    "\n",
    "articles = articles.map(lambda x: x['article_id'])"
   ]
  },
  {
   "cell_type": "code",
   "execution_count": 147,
   "id": "e90f3098",
   "metadata": {},
   "outputs": [
    {
     "data": {
      "text/plain": [
       "283842"
      ]
     },
     "execution_count": 147,
     "metadata": {},
     "output_type": "execute_result"
    }
   ],
   "source": [
    "len(interactions)"
   ]
  },
  {
   "cell_type": "code",
   "execution_count": 148,
   "id": "4dfe670d",
   "metadata": {},
   "outputs": [],
   "source": [
    "# obtenemos  identificadores únicos de los artículos y de los customers como una lookup table\n",
    "unique_article_titles = np.unique(np.concatenate(list(articles.batch(1000))))\n",
    "unique_customer_ids = np.unique(np.concatenate(list(interactions.batch(1_000).map(lambda x: x[\"customer_id\"]))))\n",
    "\n",
    "# Mezclamos aleatoriamente los datos y los dividimos entre train y validation.\n",
    "#el conjunto de datos de validación es el que nos permitirá escoger el mejor resultado, para luego testear el modelo\n",
    "#con el test set que hemos separado originalmente.\n",
    "\n",
    "tf.random.set_seed(42)\n",
    "shuffled = interactions.shuffle(len(interactions), seed=42, reshuffle_each_iteration=False)\n",
    "train = shuffled.take(np.around(len(interactions)*.8))\n",
    "validation = shuffled.skip(np.around(len(interactions)*.8)).take(np.around(len(interactions)*.2))"
   ]
  },
  {
   "cell_type": "markdown",
   "id": "cf286432",
   "metadata": {},
   "source": [
    "# Ranking y Retrieval"
   ]
  },
  {
   "cell_type": "markdown",
   "id": "bf1cfa6a",
   "metadata": {},
   "source": [
    "Definimos la clase."
   ]
  },
  {
   "cell_type": "code",
   "execution_count": 149,
   "id": "db8fffa2",
   "metadata": {},
   "outputs": [],
   "source": [
    "class HM_model(tfrs.Model):\n",
    "    def __init__(self, customer_model, article_model):\n",
    "        super().__init__()\n",
    "        \n",
    "        article_model = tf.keras.Sequential([tf.keras.layers.experimental.preprocessing.StringLookup(\n",
    "                                        vocabulary=unique_article_titles, mask_token=None),\n",
    "                                        tf.keras.layers.Embedding(len(unique_article_titles) + 1, embedding_dimension)])\n",
    "        \n",
    "        self.article_model: tf.keras.Model = article_model\n",
    "        \n",
    "        customer_model = tf.keras.Sequential([tf.keras.layers.experimental.preprocessing.StringLookup(\n",
    "                                        vocabulary=unique_customer_ids, mask_token=None),\n",
    "                                        tf.keras.layers.Embedding(len(unique_customer_ids) + 1, embedding_dimension)])\n",
    "        self.customer_model: tf.keras.Model = customer_model\n",
    "        \n",
    "        metrics = tfrs.metrics.FactorizedTopK(candidates=articles.batch(128).map(article_model))\n",
    "                                             \n",
    "        task = tfrs.tasks.Retrieval(metrics=metrics)\n",
    "        self.task: tf.keras.layers.Layer = task\n",
    "\n",
    "    def compute_loss(self, features: Dict[Text, tf.Tensor], training=False) -> tf.Tensor:\n",
    "\n",
    "        customer_embeddings = self.customer_model(features[\"customer_id\"])\n",
    "        \n",
    "        positive_article_embeddings = self.article_model(features[\"article_id\"])\n",
    "\n",
    "        return self.task(customer_embeddings, positive_article_embeddings)\n",
    " "
   ]
  },
  {
   "cell_type": "markdown",
   "id": "b11db076",
   "metadata": {},
   "source": [
    "Establecemos los parámetros y pasamos a la clase que hemos definido.\n",
    "\n",
    "Primero realizamos el ajuste y luego evaluamos con el validation set que hemos apartado."
   ]
  },
  {
   "cell_type": "code",
   "execution_count": 150,
   "id": "bdf7c7f8",
   "metadata": {},
   "outputs": [],
   "source": [
    "# elegimos la dimensionalidad\n",
    "embedding_dimension = 64\n",
    "\n",
    "\n",
    "# pasamos el modelo\n",
    "\n",
    "article_model = tf.keras.Sequential([tf.keras.layers.experimental.preprocessing.StringLookup(\n",
    "                                vocabulary=unique_article_titles, mask_token=None),\n",
    "                                tf.keras.layers.Dense(len(unique_article_titles) , activation = 'tanh'),\n",
    "                                tf.keras.layers.LSTM(embedding_dimension, return_sequences=True, recurrent_initializer= 'glorot_uniform'),\n",
    "                                tf.keras.layers.Embedding(len(unique_article_titles) + 1, embedding_dimension)])\n",
    "\n",
    "customer_model = tf.keras.Sequential([ tf.keras.layers.experimental.preprocessing.StringLookup(\n",
    "                                vocabulary=unique_customer_ids, mask_token=None),\n",
    "                                tf.keras.layers.Dense(len(unique_customer_ids) , activation = 'tanh'),\n",
    "                                tf.keras.layers.LSTM(embedding_dimension, return_sequences=True, recurrent_initializer= 'glorot_uniform'),\n",
    "                                tf.keras.layers.Embedding(len(unique_customer_ids) + 1, embedding_dimension)])\n",
    "\n",
    "model = HM_model(customer_model, article_model)\n"
   ]
  },
  {
   "cell_type": "markdown",
   "id": "933231db",
   "metadata": {},
   "source": [
    "Compilamos, establecemos el cache de train y validation.\n",
    "\n",
    "Luego, ajustamos el modelo estableciendo las epochs.\n",
    "\n",
    "Finalmente, evaluamos con el validation set."
   ]
  },
  {
   "cell_type": "code",
   "execution_count": 151,
   "id": "ba110a90",
   "metadata": {},
   "outputs": [
    {
     "name": "stdout",
     "output_type": "stream",
     "text": [
      "Epoch 1/20\n",
      "28/28 [==============================] - 87s 3s/step - factorized_top_k/top_1_categorical_accuracy: 0.0000e+00 - factorized_top_k/top_5_categorical_accuracy: 1.0569e-04 - factorized_top_k/top_10_categorical_accuracy: 4.1396e-04 - factorized_top_k/top_50_categorical_accuracy: 0.0032 - factorized_top_k/top_100_categorical_accuracy: 0.0074 - loss: 72676.3580 - regularization_loss: 0.0000e+00 - total_loss: 72676.3580\n",
      "Epoch 2/20\n",
      "28/28 [==============================] - 85s 3s/step - factorized_top_k/top_1_categorical_accuracy: 8.3233e-04 - factorized_top_k/top_5_categorical_accuracy: 0.0312 - factorized_top_k/top_10_categorical_accuracy: 0.0661 - factorized_top_k/top_50_categorical_accuracy: 0.1924 - factorized_top_k/top_100_categorical_accuracy: 0.2714 - loss: 62194.1064 - regularization_loss: 0.0000e+00 - total_loss: 62194.1064\n",
      "Epoch 3/20\n",
      "28/28 [==============================] - 88s 3s/step - factorized_top_k/top_1_categorical_accuracy: 0.0019 - factorized_top_k/top_5_categorical_accuracy: 0.0541 - factorized_top_k/top_10_categorical_accuracy: 0.1360 - factorized_top_k/top_50_categorical_accuracy: 0.4153 - factorized_top_k/top_100_categorical_accuracy: 0.5383 - loss: 51222.0055 - regularization_loss: 0.0000e+00 - total_loss: 51222.0055\n",
      "Epoch 4/20\n",
      "28/28 [==============================] - 85s 3s/step - factorized_top_k/top_1_categorical_accuracy: 0.0024 - factorized_top_k/top_5_categorical_accuracy: 0.0425 - factorized_top_k/top_10_categorical_accuracy: 0.1290 - factorized_top_k/top_50_categorical_accuracy: 0.5242 - factorized_top_k/top_100_categorical_accuracy: 0.6776 - loss: 46766.0742 - regularization_loss: 0.0000e+00 - total_loss: 46766.0742\n",
      "Epoch 5/20\n",
      "28/28 [==============================] - 87s 3s/step - factorized_top_k/top_1_categorical_accuracy: 0.0022 - factorized_top_k/top_5_categorical_accuracy: 0.0394 - factorized_top_k/top_10_categorical_accuracy: 0.1377 - factorized_top_k/top_50_categorical_accuracy: 0.6119 - factorized_top_k/top_100_categorical_accuracy: 0.7647 - loss: 44175.2278 - regularization_loss: 0.0000e+00 - total_loss: 44175.2278\n",
      "Epoch 6/20\n",
      "28/28 [==============================] - 88s 3s/step - factorized_top_k/top_1_categorical_accuracy: 0.0031 - factorized_top_k/top_5_categorical_accuracy: 0.0420 - factorized_top_k/top_10_categorical_accuracy: 0.1455 - factorized_top_k/top_50_categorical_accuracy: 0.6585 - factorized_top_k/top_100_categorical_accuracy: 0.8116 - loss: 42760.2359 - regularization_loss: 0.0000e+00 - total_loss: 42760.2359\n",
      "Epoch 7/20\n",
      "28/28 [==============================] - 92s 3s/step - factorized_top_k/top_1_categorical_accuracy: 0.0031 - factorized_top_k/top_5_categorical_accuracy: 0.0411 - factorized_top_k/top_10_categorical_accuracy: 0.1512 - factorized_top_k/top_50_categorical_accuracy: 0.7023 - factorized_top_k/top_100_categorical_accuracy: 0.8481 - loss: 41696.2037 - regularization_loss: 0.0000e+00 - total_loss: 41696.2037\n",
      "Epoch 8/20\n",
      "28/28 [==============================] - 88s 3s/step - factorized_top_k/top_1_categorical_accuracy: 0.0038 - factorized_top_k/top_5_categorical_accuracy: 0.0435 - factorized_top_k/top_10_categorical_accuracy: 0.1578 - factorized_top_k/top_50_categorical_accuracy: 0.7272 - factorized_top_k/top_100_categorical_accuracy: 0.8689 - loss: 41023.4640 - regularization_loss: 0.0000e+00 - total_loss: 41023.4640\n",
      "Epoch 9/20\n",
      "28/28 [==============================] - 88s 3s/step - factorized_top_k/top_1_categorical_accuracy: 0.0037 - factorized_top_k/top_5_categorical_accuracy: 0.0438 - factorized_top_k/top_10_categorical_accuracy: 0.1633 - factorized_top_k/top_50_categorical_accuracy: 0.7543 - factorized_top_k/top_100_categorical_accuracy: 0.8896 - loss: 40391.5546 - regularization_loss: 0.0000e+00 - total_loss: 40391.5546\n",
      "Epoch 10/20\n",
      "28/28 [==============================] - 86s 3s/step - factorized_top_k/top_1_categorical_accuracy: 0.0041 - factorized_top_k/top_5_categorical_accuracy: 0.0458 - factorized_top_k/top_10_categorical_accuracy: 0.1692 - factorized_top_k/top_50_categorical_accuracy: 0.7713 - factorized_top_k/top_100_categorical_accuracy: 0.9012 - loss: 39975.8718 - regularization_loss: 0.0000e+00 - total_loss: 39975.8718\n",
      "Epoch 11/20\n",
      "28/28 [==============================] - 86s 3s/step - factorized_top_k/top_1_categorical_accuracy: 0.0042 - factorized_top_k/top_5_categorical_accuracy: 0.0460 - factorized_top_k/top_10_categorical_accuracy: 0.1737 - factorized_top_k/top_50_categorical_accuracy: 0.7896 - factorized_top_k/top_100_categorical_accuracy: 0.9143 - loss: 39563.7919 - regularization_loss: 0.0000e+00 - total_loss: 39563.7919\n",
      "Epoch 12/20\n",
      "28/28 [==============================] - 85s 3s/step - factorized_top_k/top_1_categorical_accuracy: 0.0046 - factorized_top_k/top_5_categorical_accuracy: 0.0481 - factorized_top_k/top_10_categorical_accuracy: 0.1783 - factorized_top_k/top_50_categorical_accuracy: 0.8009 - factorized_top_k/top_100_categorical_accuracy: 0.9213 - loss: 39272.4254 - regularization_loss: 0.0000e+00 - total_loss: 39272.4254\n",
      "Epoch 13/20\n",
      "28/28 [==============================] - 87s 3s/step - factorized_top_k/top_1_categorical_accuracy: 0.0044 - factorized_top_k/top_5_categorical_accuracy: 0.0481 - factorized_top_k/top_10_categorical_accuracy: 0.1820 - factorized_top_k/top_50_categorical_accuracy: 0.8152 - factorized_top_k/top_100_categorical_accuracy: 0.9302 - loss: 38950.6894 - regularization_loss: 0.0000e+00 - total_loss: 38950.6894\n",
      "Epoch 14/20\n",
      "28/28 [==============================] - 87s 3s/step - factorized_top_k/top_1_categorical_accuracy: 0.0045 - factorized_top_k/top_5_categorical_accuracy: 0.0493 - factorized_top_k/top_10_categorical_accuracy: 0.1857 - factorized_top_k/top_50_categorical_accuracy: 0.8240 - factorized_top_k/top_100_categorical_accuracy: 0.9348 - loss: 38739.7868 - regularization_loss: 0.0000e+00 - total_loss: 38739.7868\n",
      "Epoch 15/20\n",
      "28/28 [==============================] - 87s 3s/step - factorized_top_k/top_1_categorical_accuracy: 0.0048 - factorized_top_k/top_5_categorical_accuracy: 0.0495 - factorized_top_k/top_10_categorical_accuracy: 0.1883 - factorized_top_k/top_50_categorical_accuracy: 0.8359 - factorized_top_k/top_100_categorical_accuracy: 0.9416 - loss: 38463.9704 - regularization_loss: 0.0000e+00 - total_loss: 38463.9704\n",
      "Epoch 16/20\n",
      "28/28 [==============================] - 87s 3s/step - factorized_top_k/top_1_categorical_accuracy: 0.0048 - factorized_top_k/top_5_categorical_accuracy: 0.0506 - factorized_top_k/top_10_categorical_accuracy: 0.1903 - factorized_top_k/top_50_categorical_accuracy: 0.8423 - factorized_top_k/top_100_categorical_accuracy: 0.9447 - loss: 38313.0484 - regularization_loss: 0.0000e+00 - total_loss: 38313.0484\n",
      "Epoch 17/20\n",
      "28/28 [==============================] - 90s 3s/step - factorized_top_k/top_1_categorical_accuracy: 0.0050 - factorized_top_k/top_5_categorical_accuracy: 0.0510 - factorized_top_k/top_10_categorical_accuracy: 0.1938 - factorized_top_k/top_50_categorical_accuracy: 0.8512 - factorized_top_k/top_100_categorical_accuracy: 0.9499 - loss: 38093.1713 - regularization_loss: 0.0000e+00 - total_loss: 38093.1713\n",
      "Epoch 18/20\n",
      "28/28 [==============================] - 91s 3s/step - factorized_top_k/top_1_categorical_accuracy: 0.0050 - factorized_top_k/top_5_categorical_accuracy: 0.0516 - factorized_top_k/top_10_categorical_accuracy: 0.1943 - factorized_top_k/top_50_categorical_accuracy: 0.8575 - factorized_top_k/top_100_categorical_accuracy: 0.9523 - loss: 37956.6650 - regularization_loss: 0.0000e+00 - total_loss: 37956.6650\n",
      "Epoch 19/20\n",
      "28/28 [==============================] - 88s 3s/step - factorized_top_k/top_1_categorical_accuracy: 0.0051 - factorized_top_k/top_5_categorical_accuracy: 0.0520 - factorized_top_k/top_10_categorical_accuracy: 0.1974 - factorized_top_k/top_50_categorical_accuracy: 0.8639 - factorized_top_k/top_100_categorical_accuracy: 0.9562 - loss: 37784.9374 - regularization_loss: 0.0000e+00 - total_loss: 37784.9374\n",
      "Epoch 20/20\n"
     ]
    },
    {
     "name": "stdout",
     "output_type": "stream",
     "text": [
      "28/28 [==============================] - 90s 3s/step - factorized_top_k/top_1_categorical_accuracy: 0.0051 - factorized_top_k/top_5_categorical_accuracy: 0.0525 - factorized_top_k/top_10_categorical_accuracy: 0.1981 - factorized_top_k/top_50_categorical_accuracy: 0.8691 - factorized_top_k/top_100_categorical_accuracy: 0.9582 - loss: 37664.4254 - regularization_loss: 0.0000e+00 - total_loss: 37664.4254\n",
      "14/14 [==============================] - 24s 1s/step - factorized_top_k/top_1_categorical_accuracy: 0.0000e+00 - factorized_top_k/top_5_categorical_accuracy: 1.7616e-05 - factorized_top_k/top_10_categorical_accuracy: 2.1139e-04 - factorized_top_k/top_50_categorical_accuracy: 0.0096 - factorized_top_k/top_100_categorical_accuracy: 0.0237 - loss: 60584.6755 - regularization_loss: 0.0000e+00 - total_loss: 60584.6755\n"
     ]
    },
    {
     "data": {
      "text/plain": [
       "{'factorized_top_k/top_1_categorical_accuracy': 0.0,\n",
       " 'factorized_top_k/top_5_categorical_accuracy': 1.7615557226235978e-05,\n",
       " 'factorized_top_k/top_10_categorical_accuracy': 0.00021138669399078935,\n",
       " 'factorized_top_k/top_50_categorical_accuracy': 0.009600479155778885,\n",
       " 'factorized_top_k/top_100_categorical_accuracy': 0.023728156462311745,\n",
       " 'loss': 52133.51953125,\n",
       " 'regularization_loss': 0,\n",
       " 'total_loss': 52133.51953125}"
      ]
     },
     "execution_count": 151,
     "metadata": {},
     "output_type": "execute_result"
    }
   ],
   "source": [
    "model.compile(optimizer=tf.keras.optimizers.Adam(learning_rate=0.05))\n",
    "cached_train = train.shuffle(100_000).batch(8192).cache()\n",
    "cached_validation = validation.batch(4096).cache()\n",
    "\n",
    "model_hist = model.fit(cached_train, epochs=20)\n",
    "\n",
    "model.evaluate(cached_validation, return_dict=True)\n"
   ]
  },
  {
   "cell_type": "markdown",
   "id": "c662e645",
   "metadata": {},
   "source": [
    "Graficamos la precisión del modelo con el top 10."
   ]
  },
  {
   "cell_type": "code",
   "execution_count": 163,
   "id": "a3417bf7",
   "metadata": {},
   "outputs": [
    {
     "data": {
      "text/plain": [
       "<matplotlib.legend.Legend at 0x1b80a92ecd0>"
      ]
     },
     "execution_count": 163,
     "metadata": {},
     "output_type": "execute_result"
    },
    {
     "data": {
      "image/png": "[encoded data removed]",
      "text/plain": [
       "<Figure size 432x288 with 1 Axes>"
      ]
     },
     "metadata": {
      "needs_background": "light"
     },
     "output_type": "display_data"
    }
   ],
   "source": [
    "\n",
    "epochs = [i for i in range(20)]\n",
    "\n",
    "plt.plot(epochs, model_hist.history[\"factorized_top_k/top_10_categorical_accuracy\"], label=\"accuracy\")\n",
    "plt.title(\"Precisión vs epoch\")\n",
    "plt.xlabel(\"epoch\")\n",
    "plt.ylabel(\"Precisión del Top 10\");\n",
    "plt.legend()\n"
   ]
  },
  {
   "cell_type": "code",
   "execution_count": 159,
   "id": "63077259",
   "metadata": {},
   "outputs": [],
   "source": [
    "epochs = [i for i in range(20)]\n",
    "\n",
    "top_5 = model_hist.history[\"factorized_top_k/top_5_categorical_accuracy\"]\n",
    "top_10 = model_hist.history[\"factorized_top_k/top_10_categorical_accuracy\"]\n",
    "top_50 = model_hist.history[\"factorized_top_k/top_50_categorical_accuracy\"]\n",
    "top_100 = model_hist.history[\"factorized_top_k/top_100_categorical_accuracy\"]"
   ]
  },
  {
   "cell_type": "code",
   "execution_count": 184,
   "id": "72c0f1da",
   "metadata": {},
   "outputs": [
    {
     "data": {
      "image/png": "[encoded data removed]",
      "text/plain": [
       "<Figure size 864x360 with 4 Axes>"
      ]
     },
     "metadata": {
      "needs_background": "light"
     },
     "output_type": "display_data"
    }
   ],
   "source": [
    "fig, axs = plt.subplots(2, 2)\n",
    "axs[0, 0].plot(epochs, top_5)\n",
    "axs[0, 0].set_title('top 5')\n",
    "axs[0, 1].plot(epochs, top_10, 'tab:orange')\n",
    "axs[0, 1].set_title('top 10')\n",
    "axs[1, 0].plot(epochs, top_50, 'tab:green')\n",
    "axs[1, 0].set_title('top 50')\n",
    "axs[1, 1].plot(epochs, top_100, 'tab:red')\n",
    "axs[1, 1].set_title('top 100')\n",
    "\n",
    "for ax in axs.flat:\n",
    "    ax.set(xlabel='epochs', ylabel='precisión')\n",
    "\n",
    "    \n",
    "plt.subplots_adjust(left=0.1,\n",
    "                    bottom=0.1, \n",
    "                    right=0.9, \n",
    "                    top=0.9, \n",
    "                    wspace=0.2, \n",
    "                    hspace=0.8)\n",
    "plt.show()"
   ]
  },
  {
   "cell_type": "markdown",
   "id": "c6c1c9a2",
   "metadata": {},
   "source": [
    "## Evaluación con el test set\n",
    "Ahora se procede a predecir los artículos más recomendados para los usuarios utilizando el **test set** que se ha separado. Con esto, determinaremos que tanto acertaría el modelo si estuviese en producción. Se utiliza `BruteForce layer`, el cual considera todos los artículos disponibles para los usuarios."
   ]
  },
  {
   "cell_type": "code",
   "execution_count": 153,
   "id": "d9db2fe8",
   "metadata": {},
   "outputs": [],
   "source": [
    "# Primero creamos un modelo que tome las características del raw\n",
    "index = tfrs.layers.factorized_top_k.BruteForce(model.customer_model)"
   ]
  },
  {
   "cell_type": "code",
   "execution_count": 154,
   "id": "56a8d06d",
   "metadata": {},
   "outputs": [
    {
     "data": {
      "text/plain": [
       "<tensorflow_recommenders.layers.factorized_top_k.BruteForce at 0x1b80a96d0a0>"
      ]
     },
     "execution_count": 154,
     "metadata": {},
     "output_type": "execute_result"
    }
   ],
   "source": [
    "index.index_from_dataset(\n",
    "    articles.batch(100).map(lambda article_id: (article_id, model.article_model(article_id))))\n"
   ]
  },
  {
   "cell_type": "markdown",
   "id": "2f7dd628",
   "metadata": {},
   "source": [
    "Posteriormente se verifica para cada usuario si el artículo que ha comprado y se encuentra en el test set (el cual no se ha utilizado para entrenar el modelo) se encuentra entre el top 10 de productos recomendados."
   ]
  },
  {
   "cell_type": "code",
   "execution_count": 155,
   "id": "7293d781",
   "metadata": {},
   "outputs": [
    {
     "name": "stdout",
     "output_type": "stream",
     "text": [
      "Encontrados:  5\n",
      "Encontrados:  10\n",
      "Encontrados:  15\n",
      "Encontrados:  20\n",
      "Encontrados:  25\n",
      "Encontrados:  30\n",
      "Encontrados:  35\n",
      "Encontrados:  40\n",
      "Encontrados:  45\n",
      "Encontrados:  50\n",
      "Encontrados:  55\n",
      "Encontrados:  60\n",
      "Encontrados:  65\n",
      "Encontrados:  70\n",
      "Encontrados:  75\n",
      "Encontrados:  80\n",
      "Encontrados:  85\n",
      "Encontrados:  90\n",
      "Encontrados:  95\n",
      "Encontrados:  100\n",
      "Encontrados:  105\n",
      "Encontrados:  110\n",
      "Encontrados:  115\n",
      "Encontrados:  120\n",
      "Encontrados:  125\n",
      "Encontrados:  130\n",
      "Encontrados:  135\n",
      "Encontrados:  140\n",
      "Encontrados:  145\n",
      "Encontrados:  150\n",
      "Encontrados:  155\n",
      "Encontrados:  160\n",
      "Encontrados:  165\n",
      "Encontrados:  170\n",
      "Encontrados:  175\n",
      "Encontrados:  180\n",
      "Encontrados:  185\n",
      "Encontrados:  190\n",
      "Encontrados:  195\n",
      "Encontrados:  200\n",
      "Encontrados:  205\n",
      "Encontrados:  210\n",
      "Encontrados:  215\n",
      "Encontrados:  220\n",
      "Encontrados:  225\n",
      "Encontrados:  230\n",
      "Encontrados:  235\n",
      "Encontrados:  240\n",
      "Encontrados:  245\n",
      "Encontrados:  250\n",
      "Encontrados:  255\n",
      "Encontrados:  260\n",
      "Encontrados:  265\n",
      "Encontrados:  270\n",
      "Encontrados:  275\n",
      "Encontrados:  280\n",
      "Encontrados:  285\n",
      "Encontrados:  290\n",
      "Encontrados:  295\n",
      "Encontrados:  300\n",
      "Encontrados:  305\n",
      "Encontrados:  310\n",
      "Encontrados:  315\n",
      "Encontrados:  320\n",
      "Encontrados:  325\n",
      "Encontrados:  330\n"
     ]
    }
   ],
   "source": [
    "c=0\n",
    "\n",
    "for cust in HM_test.customer_id:\n",
    "    a = HM_test[HM_test.customer_id==cust].article_id.values[0]\n",
    "    b = str(cust)\n",
    "    _,titles = index(tf.constant([cust]))\n",
    "    if a in titles[0]:\n",
    "        #print(\"usuario: \", b)\n",
    "        #print(\"articulo: \",a)\n",
    "        #print(titles[0])\n",
    "        c = c+1\n",
    "        if (np.mod(int(c), 5) == 0):\n",
    "            print('Encontrados: ' , c)\n",
    "        \n",
    "          "
   ]
  },
  {
   "cell_type": "code",
   "execution_count": 156,
   "id": "8497b935",
   "metadata": {},
   "outputs": [
    {
     "name": "stdout",
     "output_type": "stream",
     "text": [
      "cantidad de usuarios:  13359\n",
      "cantidad de top 10 acertados:  330\n",
      "2.4702447788%\n"
     ]
    }
   ],
   "source": [
    "print(\"cantidad de usuarios: \",len(HM_test.customer_id))\n",
    "print(\"cantidad de top 10 acertados: \", c)\n",
    "print(\"{:.10%}\".format(c/len(HM_test.customer_id)))"
   ]
  }
 ],
 "metadata": {
  "kernelspec": {
   "display_name": "Python 3",
   "language": "python",
   "name": "python3"
  },
  "language_info": {
   "codemirror_mode": {
    "name": "ipython",
    "version": 3
   },
   "file_extension": ".py",
   "mimetype": "text/x-python",
   "name": "python",
   "nbconvert_exporter": "python",
   "pygments_lexer": "ipython3",
   "version": "3.8.8"
  }
 },
 "nbformat": 4,
 "nbformat_minor": 5
}
